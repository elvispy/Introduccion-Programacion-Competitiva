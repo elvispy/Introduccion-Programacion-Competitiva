{
 "cells": [
  {
   "cell_type": "markdown",
   "id": "c2661b41",
   "metadata": {
    "slideshow": {
     "slide_type": "slide"
    }
   },
   "source": [
    "## Practicando entrada-salida en Python\n",
    "\n",
    "Una habilidad esencial en programación competitiva es poder implementar las tareas de manera rápida.\n",
    "\n",
    "Una forma de hacer esto es conociendo mejor el lenguaje de programación que estamos usando.\n",
    "\n",
    "Como este curso está escrito en python, vamos a ver unos ejemplos para poder implementar tareas en python más rápidamente."
   ]
  },
  {
   "cell_type": "markdown",
   "id": "78a1144b",
   "metadata": {
    "slideshow": {
     "slide_type": "slide"
    }
   },
   "source": [
    "### Comandos de lectura `sdtin` y `stdout`"
   ]
  },
  {
   "cell_type": "code",
   "execution_count": 10,
   "id": "c24e15ae",
   "metadata": {},
   "outputs": [
    {
     "name": "stdout",
     "output_type": "stream",
     "text": [
      "3\n",
      "El número es 3. Repito, el número es: 3\n",
      "3.14159\n",
      "Ahora, con decimales: 3.14\n",
      "1 2 3 2 1\n",
      "1 2 3 2 1vector\n",
      "1\n",
      "1, 2, 3\n",
      "1.00 2.00 3.00\n"
     ]
    }
   ],
   "source": [
    "v = int(input()) # Leyendo un entero\n",
    "print(\"El número es %d. Repito, el número es: %d\" % (v, v)) # Tambien se puede usar %s\n",
    "\n",
    "v = float(input()) # Leyendo un número con decimales\n",
    "print(f\"Ahora, con decimales: {v:.2f}\")  # imprime el número con dos decimales de precisión\n",
    "\n",
    "# Leyendo una línea de decimales separados por espacios en blanco\n",
    "v = list(map(int, input().split()))  # guardamos en una lista\n",
    "print(\" \".join(map(str, v)), end = \" vector\\n\")\n",
    "\n",
    "# Leyendo una matriz separadas por comas\n",
    "filas = int(input())  # Number of rows\n",
    "matriz = [list(map(float, input().split(\",\"))) for _ in range(filas)]\n",
    "for fila in matriz:\n",
    "    print(\" \".join(f\"{x:.2f}\" for x in fila))  # Prints each row with formatted floats\n"
   ]
  },
  {
   "cell_type": "markdown",
   "id": "43d00f9c",
   "metadata": {
    "slideshow": {
     "slide_type": "slide"
    }
   },
   "source": [
    "# 1. Cadenas de texto (Strings)\n",
    "\n",
    "### `len(s)` – Retorna la longitud de la cadena `s`.\n",
    "\n",
    "```python\n",
    "s = \"hola\"\n",
    "print(len(s))  # Imprime: 4, porque la cadena tiene 4 caracteres.\n",
    "```\n",
    "\n",
    "### `s.split(sep)` – Divide la cadena `s` en una lista usando un separador `sep`.\n",
    "\n",
    "```python\n",
    "s = \"uno,dos,tres\"\n",
    "print(s.split(','))  # Imprime: ['uno', 'dos', 'tres'], dividida por comas.\n",
    "```\n",
    "\n",
    "### `s.join(iterable)` – Une una secuencia de cadenas en una sola cadena.\n",
    "\n",
    "```python\n",
    "palabras = ['manzana', 'pera', 'uva']\n",
    "print(', '.join(palabras))  # Imprime: manzana, pera, uva\n",
    "```\n",
    "\n",
    "### `s.strip()` – Elimina espacios (u otros caracteres) al inicio y al final de la cadena.\n",
    "\n",
    "```python\n",
    "s = \"   hola   \"\n",
    "print(s.strip())  # Imprime: \"hola\", quitando los espacios en blanco.\n",
    "```\n",
    "\n",
    "### `s.find(sub)` – Retorna el índice de la primera aparición de `sub` en `s`, o `-1`.\n",
    "\n",
    "```python\n",
    "s = \"hola mundo\"\n",
    "print(s.find('mundo'))  # Imprime: 5, porque \"mundo\" empieza en el índice 5.\n",
    "```"
   ]
  },
  {
   "cell_type": "markdown",
   "id": "b72432a9",
   "metadata": {
    "slideshow": {
     "slide_type": "slide"
    }
   },
   "source": [
    "\n",
    "\n",
    "# 2. Listas (List)\n",
    "\n",
    "### `append(x)` – Añade un elemento `x` al final de la lista.\n",
    "\n",
    "```python\n",
    "lst = [1, 2, 3]\n",
    "lst.append(4)\n",
    "print(lst)  # Imprime: [1, 2, 3, 4]\n",
    "```\n",
    "\n",
    "### `pop(i=-1)` – Elimina y retorna el elemento en la posición `i`.\n",
    "\n",
    "```python\n",
    "lst = [1, 2, 3, 4]\n",
    "lst.pop()  # Elimina el último elemento\n",
    "print(lst)  # Imprime: [1, 2, 3]\n",
    "```\n",
    "\n",
    "### `sort()` – Ordena la lista en su lugar.\n",
    "\n",
    "```python\n",
    "lst = [4, 1, 3, 2]\n",
    "lst.sort()\n",
    "print(lst)  # Imprime: [1, 2, 3, 4]\n",
    "```\n",
    "\n",
    "### `len(lst)` – Retorna la longitud de la lista.\n",
    "\n",
    "```python\n",
    "lst = [1, 2, 3, 4]\n",
    "print(len(lst))  # Imprime: 4\n",
    "```\n",
    "\n",
    "### `sum(lst)` – Suma todos los elementos de la lista.\n",
    "\n",
    "```python\n",
    "lst = [1, 2, 3, 4]\n",
    "print(sum(lst))  # Imprime: 10\n",
    "```\n"
   ]
  },
  {
   "cell_type": "markdown",
   "id": "048c0185",
   "metadata": {
    "slideshow": {
     "slide_type": "slide"
    }
   },
   "source": [
    "\n",
    "# 3. Diccionarios (Dict)\n",
    "\n",
    "### `get(key, default=None)` – Retorna el valor de `key` si existe, o `default`.\n",
    "\n",
    "```python\n",
    "d = {'a': 1, 'b': 2}\n",
    "print(d.get('a'))  # Imprime: 1\n",
    "print(d.get('c', 0))  # Imprime: 0, porque 'c' no está en el diccionario.\n",
    "```\n",
    "\n",
    "### `keys()` – Retorna las claves del diccionario.\n",
    "\n",
    "```python\n",
    "d = {'a': 1, 'b': 2}\n",
    "print(list(d.keys()))  # Imprime: ['a', 'b']\n",
    "```\n",
    "\n",
    "### `values()` – Retorna los valores del diccionario.\n",
    "\n",
    "```python\n",
    "d = {'a': 1, 'b': 2}\n",
    "print(list(d.values()))  # Imprime: [1, 2]\n",
    "```\n",
    "\n",
    "### `items()` – Retorna pares clave-valor como tuplas.\n",
    "\n",
    "```python\n",
    "d = {'a': 1, 'b': 2}\n",
    "print(list(d.items()))  # Imprime: [('a', 1), ('b', 2)]\n",
    "```\n",
    "\n",
    "### `pop(key)` – Elimina y retorna el valor asociado a `key`.\n",
    "\n",
    "```python\n",
    "d = {'a': 1, 'b': 2}\n",
    "d.pop('a')\n",
    "print(d)  # Imprime: {'b': 2}\n",
    "```\n"
   ]
  },
  {
   "cell_type": "markdown",
   "id": "f4be93a4",
   "metadata": {
    "slideshow": {
     "slide_type": "slide"
    }
   },
   "source": [
    "\n",
    "# 4. Conjuntos (Set)\n",
    "\n",
    "### `add(x)` – Añade el elemento `x` al conjunto.\n",
    "\n",
    "```python\n",
    "s = {1, 2, 3}\n",
    "s.add(4)\n",
    "print(s)  # Imprime: {1, 2, 3, 4}\n",
    "```\n",
    "\n",
    "### `remove(x)` – Elimina el elemento `x` del conjunto.\n",
    "\n",
    "```python\n",
    "s = {1, 2, 3}\n",
    "s.remove(2)\n",
    "print(s)  # Imprime: {1, 3}\n",
    "```\n",
    "\n",
    "### `union(set2)` – Retorna un nuevo conjunto con la unión de `set` y `set2`.\n",
    "\n",
    "```python\n",
    "s1 = {1, 2, 3}\n",
    "s2 = {3, 4, 5}\n",
    "print(s1.union(s2))  # Imprime: {1, 2, 3, 4, 5}\n",
    "```\n",
    "\n",
    "### `intersection(set2)` – Retorna un nuevo conjunto con los elementos comunes.\n",
    "\n",
    "```python\n",
    "s1 = {1, 2, 3}\n",
    "s2 = {2, 3, 4}\n",
    "print(s1.intersection(s2))  # Imprime: {2, 3}\n",
    "```\n",
    "\n",
    "### `difference(set2)` – Retorna los elementos en `set` pero no en `set2`.\n",
    "\n",
    "```python\n",
    "s1 = {1, 2, 3}\n",
    "s2 = {2, 3, 4}\n",
    "print(s1.difference(s2))  # Imprime: {1}\n",
    "```\n"
   ]
  },
  {
   "cell_type": "markdown",
   "id": "1733457f",
   "metadata": {
    "slideshow": {
     "slide_type": "slide"
    }
   },
   "source": [
    "\n",
    "# 5. Números Enteros (Int)\n",
    "\n",
    "### `abs(x)` – Retorna el valor absoluto de `x`.\n",
    "\n",
    "```python\n",
    "x = -5\n",
    "print(abs(x))  # Imprime: 5\n",
    "```\n",
    "\n",
    "### `pow(x, y)` – Retorna `x` elevado a la potencia `y`.\n",
    "\n",
    "```python\n",
    "x = 2\n",
    "y = 3\n",
    "print(pow(x, y))  # Imprime: 8\n",
    "```\n",
    "\n",
    "### `max(a, b, ...)` – Retorna el mayor de los argumentos.\n",
    "\n",
    "```python\n",
    "print(max(1, 2, 3))  # Imprime: 3\n",
    "```\n",
    "\n",
    "### `min(a, b, ...)` – Retorna el menor de los argumentos.\n",
    "\n",
    "```python\n",
    "print(min(1, 2, 3))  # Imprime: 1\n",
    "```\n",
    "\n",
    "### `divmod(a, b)` – Retorna una tupla con el cociente y el residuo de la división.\n",
    "\n",
    "```python\n",
    "print(divmod(7, 3))  # Imprime: (2, 1)\n",
    "```\n"
   ]
  },
  {
   "cell_type": "markdown",
   "id": "19078ada",
   "metadata": {
    "slideshow": {
     "slide_type": "slide"
    }
   },
   "source": [
    "# 6. Números Flotantes (Float)\n",
    "\n",
    "### `round(x, n)` – Redondea `x` a `n` decimales.\n",
    "\n",
    "```python\n",
    "x = 3.14159\n",
    "print(round(x, 2))  # Imprime: 3.14\n",
    "```\n",
    "\n",
    "### `abs(x)` – Retorna el valor absoluto de `x`.\n",
    "\n",
    "```python\n",
    "x = -3.5\n",
    "print(abs(x))  # Imprime: 3.5\n",
    "```\n",
    "\n",
    "### `is_integer()` – Retorna `True` si el número es un entero (como flotante).\n",
    "\n",
    "```python\n",
    "x = 3.0\n",
    "print(x.is_integer())  # Imprime: True\n",
    "```\n",
    "\n",
    "### `float(x)` – Convierte el valor de `x` a flotante.\n",
    "\n",
    "```python\n",
    "x = \"3.14\"\n",
    "print(float(x))  # Imprime: 3.14\n",
    "```\n",
    "\n",
    "### `format(x, '.nf')` – Formatea el número flotante con `n` decimales.\n",
    "\n",
    "```python\n",
    "x = 3.14159\n",
    "print(format(x, '.2f'))  # Imprime: 3.14\n",
    "```\n"
   ]
  },
  {
   "cell_type": "markdown",
   "id": "eb6b0729",
   "metadata": {
    "slideshow": {
     "slide_type": "slide"
    }
   },
   "source": [
    "\n",
    "\n",
    "# 7. Tuplas (Tuple)\n",
    "\n",
    "### `len(t)` – Retorna el número de elementos en la tupla `t`.\n",
    "\n",
    "```python\n",
    "t = (1, 2, 3)\n",
    "print(len(t))  # Imprime: 3\n",
    "```\n",
    "\n",
    "### `t.count(x)` – Cuenta cuántas veces aparece el elemento `x` en la tupla.\n",
    "\n",
    "```python\n",
    "t = (1, 2, 2, 3)\n",
    "print(t.count(2))  # Imprime: 2\n",
    "```\n",
    "\n",
    "### `t.index(x)` – Retorna el índice de la primera aparición de `x`.\n",
    "\n",
    "```python\n",
    "t = (1, 2, 3)\n",
    "print(t.index(2))  # Imprime: 1\n",
    "```\n",
    "\n",
    "### `max(t)` – Retorna el valor máximo de la tupla.\n",
    "\n",
    "```python\n",
    "t = (1, 2, 3)\n",
    "print(max(t))  # Imprime: 3\n",
    "```\n",
    "\n",
    "### `min(t)` – Retorna el valor mínimo de la tupla.\n",
    "\n",
    "```python\n",
    "t = (1, 2, 3)\n",
    "print(min(t))  # Imprime: 1\n",
    "```\n"
   ]
  },
  {
   "cell_type": "markdown",
   "id": "ebd51234",
   "metadata": {},
   "source": [
    "### Hora de practicar! (Kattis)\n",
    "\n",
    "1. [Kattis - Carrots](https://open.kattis.com/problems/carrots)\n",
    "2. [Kattis - r2](https://open.kattis.com/problems/r2)\n",
    "3. [Kattis - thelastproblem](https://open.kattis.com/problems/thelastproblem)\n",
    "4. [Kattis - faktor](https://open.kattis.com/problems/faktor)\n",
    "5. [Kattis - QALY](https://open.kattis.com/problems/qaly)\n",
    "6. [Kattis - helpaphd](https://open.kattis.com/problems/helpaphd)\n",
    "7. [Kattis - licencetolaunch](https://open.kattis.com/problems/licensetolaunch)\n",
    "8. [Kattis - bitsequalizer](https://open.kattis.com/problems/bitsequalizer) \n",
    "9. [Kattis - cowcrane](https://open.kattis.com/problems/cowcrane)\n",
    "10. [Kattis - shuffling](https://open.kattis.com/problems/shuffling)"
   ]
  }
 ],
 "metadata": {
  "celltoolbar": "Slideshow",
  "kernelspec": {
   "display_name": "Python [conda env:progcompetitiva]",
   "language": "python",
   "name": "conda-env-progcompetitiva-py"
  },
  "language_info": {
   "codemirror_mode": {
    "name": "ipython",
    "version": 3
   },
   "file_extension": ".py",
   "mimetype": "text/x-python",
   "name": "python",
   "nbconvert_exporter": "python",
   "pygments_lexer": "ipython3",
   "version": "3.12.5"
  }
 },
 "nbformat": 4,
 "nbformat_minor": 5
}
