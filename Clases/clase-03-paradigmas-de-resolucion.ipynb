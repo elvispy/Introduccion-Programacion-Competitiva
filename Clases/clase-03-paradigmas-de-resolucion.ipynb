{
 "cells": [
  {
   "cell_type": "markdown",
   "id": "d2dd2dca",
   "metadata": {
    "slideshow": {
     "slide_type": "slide"
    }
   },
   "source": [
    "## Paradigmas de resolución de problemas\n",
    "\n",
    "Hoy vamos a ver cuatro paradigmas de resolución de problemas que tenemos que tener presente. Estos son los primeros paradigmas que un programador competitivo necesita tener en consideración a la hora de encarar un problema. Estos son:\n",
    "\n",
    "- Búsqueda completa\n",
    "- Dividir para vencer\n",
    "- Algoritmo Greedy (voraz, goloso, devorador)\n",
    "- Programación dinámica"
   ]
  },
  {
   "cell_type": "markdown",
   "id": "00dbf54d",
   "metadata": {
    "slideshow": {
     "slide_type": "slide"
    }
   },
   "source": [
    "### Búsqueda completa\n",
    "\n",
    "Una búsqueda completa implica analizar todos los casos posibles en el espacio de búsqueda de un problema. Es el paradigma inicial que tenemos que tener en mente a la hora de resolver problemas fáciles, pues generalmente es rápido de implementar\n",
    " \n",
    "Ejemplo: Dada una lista de $n$ elementos, encontrar el elemento más grande de la lista."
   ]
  },
  {
   "cell_type": "markdown",
   "id": "d7c9d9b6",
   "metadata": {
    "slideshow": {
     "slide_type": "slide"
    }
   },
   "source": [
    "Generalmente, búsqueda completa funciona para problemas fáciles pues no requieren especialmente mucha cratividad para implementarlo. Un problema difícil generalmente está diseñado para que la solución por búsqueda completa es impracticable.\n",
    "\n",
    "Ejemplo: Entre todas las formas de ordenar la lista de números $1, 2, \\dots n$, encontrar aquella en la cual la suma alternada $a_1 - a_2 + a_3 \\dots$ es la mayor posible. \n",
    "\n",
    "Una búsqueda completa por el espacio de todas las permutaciones posibles necesitaría analizar $n!$ casos, que para una lista de 50 elementos necesitaria años para analizar totalmente usando búsqueda completa. \n",
    "\n",
    "Muy atentos! En la vida real, reconocer cuál es el espacio de búsqueda no es tan trivial. Además, inclusive los casos \"triviales\" pueden tener aplicaciones que ni nos imaginamos..."
   ]
  },
  {
   "cell_type": "markdown",
   "id": "03a8874a",
   "metadata": {
    "slideshow": {
     "slide_type": "slide"
    }
   },
   "source": [
    "## Ejemplo 1:\n",
    "Encontrar todos los pares de números $m$ y $n$, de cinco dígitos cada uno, de manera que no hayan dígitos repetidos entre los dos números, y que un número sea múltiplo del otro número. Está permitido que uno de los números empiece con el dígito cero. "
   ]
  },
  {
   "cell_type": "markdown",
   "id": "fb77f09c",
   "metadata": {
    "slideshow": {
     "slide_type": "subslide"
    }
   },
   "source": [
    "Análisis preliminar: Los números `abcde` y `fghij` forman una secuencia de dígitos sin repetición dentro del conjunto ${0, 1, 2, 3, 4, 5, 6, 7, 8, 9}$, donde el orden importa. Una búsqueda completa clásica implicaria buscar entre todas las permutaciones ($10! = 3628800$). Para cada `N=fghij/abcde`, el número más pequeño puede ser a lo sumo `98765/N`"
   ]
  },
  {
   "cell_type": "code",
   "execution_count": 1,
   "id": "ca5afc07",
   "metadata": {
    "slideshow": {
     "slide_type": "slide"
    }
   },
   "outputs": [
    {
     "name": "stdout",
     "output_type": "stream",
     "text": [
      "13458 / 06729 = 2\n",
      "13584 / 06792 = 2\n",
      "13854 / 06927 = 2\n",
      "14538 / 07269 = 2\n",
      "14586 / 07293 = 2\n",
      "14658 / 07329 = 2\n",
      "15384 / 07692 = 2\n",
      "15846 / 07923 = 2\n",
      "15864 / 07932 = 2\n",
      "18534 / 09267 = 2\n",
      "18546 / 09273 = 2\n",
      "18654 / 09327 = 2\n",
      "26970 / 13485 = 2\n",
      "27096 / 13548 = 2\n",
      "27690 / 13845 = 2\n",
      "29076 / 14538 = 2\n",
      "29370 / 14685 = 2\n",
      "29670 / 14835 = 2\n",
      "29706 / 14853 = 2\n",
      "29730 / 14865 = 2\n",
      "30972 / 15486 = 2\n",
      "32970 / 16485 = 2\n",
      "37092 / 18546 = 2\n",
      "37290 / 18645 = 2\n",
      "41358 / 20679 = 2\n",
      "41538 / 20769 = 2\n",
      "41586 / 20793 = 2\n",
      "46158 / 23079 = 2\n",
      "53418 / 26709 = 2\n",
      "53814 / 26907 = 2\n",
      "54138 / 27069 = 2\n",
      "54186 / 27093 = 2\n",
      "54618 / 27309 = 2\n",
      "58134 / 29067 = 2\n",
      "58146 / 29073 = 2\n",
      "58614 / 29307 = 2\n",
      "61458 / 30729 = 2\n",
      "61584 / 30792 = 2\n",
      "61854 / 30927 = 2\n",
      "62970 / 31485 = 2\n",
      "64158 / 32079 = 2\n",
      "65418 / 32709 = 2\n",
      "65814 / 32907 = 2\n",
      "69702 / 34851 = 2\n",
      "70296 / 35148 = 2\n",
      "70962 / 35481 = 2\n",
      "76290 / 38145 = 2\n",
      "76902 / 38451 = 2\n",
      "90276 / 45138 = 2\n",
      "90372 / 45186 = 2\n",
      "90762 / 45381 = 2\n",
      "92370 / 46185 = 2\n",
      "93702 / 46851 = 2\n",
      "96270 / 48135 = 2\n",
      "96702 / 48351 = 2\n",
      "97026 / 48513 = 2\n",
      "97032 / 48516 = 2\n",
      "97062 / 48531 = 2\n",
      "97230 / 48615 = 2\n",
      "97302 / 48651 = 2\n",
      "17469 / 05823 = 3\n",
      "17496 / 05832 = 3\n",
      "50382 / 16794 = 3\n",
      "53082 / 17694 = 3\n",
      "61749 / 20583 = 3\n",
      "69174 / 23058 = 3\n",
      "91746 / 30582 = 3\n",
      "96174 / 32058 = 3\n",
      "15768 / 03942 = 4\n",
      "17568 / 04392 = 4\n",
      "23184 / 05796 = 4\n",
      "31824 / 07956 = 4\n",
      "60948 / 15237 = 4\n",
      "68940 / 17235 = 4\n",
      "69408 / 17352 = 4\n",
      "81576 / 20394 = 4\n",
      "81756 / 20439 = 4\n",
      "86940 / 21735 = 4\n",
      "94068 / 23517 = 4\n",
      "94860 / 23715 = 4\n",
      "13485 / 02697 = 5\n",
      "13845 / 02769 = 5\n",
      "14685 / 02937 = 5\n",
      "14835 / 02967 = 5\n",
      "14865 / 02973 = 5\n",
      "16485 / 03297 = 5\n",
      "18645 / 03729 = 5\n",
      "31485 / 06297 = 5\n",
      "38145 / 07629 = 5\n",
      "46185 / 09237 = 5\n",
      "48135 / 09627 = 5\n",
      "48615 / 09723 = 5\n",
      "67290 / 13458 = 5\n",
      "67920 / 13584 = 5\n",
      "69270 / 13854 = 5\n",
      "72690 / 14538 = 5\n",
      "72930 / 14586 = 5\n",
      "73290 / 14658 = 5\n",
      "76920 / 15384 = 5\n",
      "79230 / 15846 = 5\n",
      "79320 / 15864 = 5\n",
      "92670 / 18534 = 5\n",
      "92730 / 18546 = 5\n",
      "93270 / 18654 = 5\n",
      "17658 / 02943 = 6\n",
      "27918 / 04653 = 6\n",
      "34182 / 05697 = 6\n",
      "16758 / 02394 = 7\n",
      "18459 / 02637 = 7\n",
      "31689 / 04527 = 7\n",
      "36918 / 05274 = 7\n",
      "37926 / 05418 = 7\n",
      "41832 / 05976 = 7\n",
      "53298 / 07614 = 7\n",
      "98532 / 14076 = 7\n",
      "25496 / 03187 = 8\n",
      "36712 / 04589 = 8\n",
      "36728 / 04591 = 8\n",
      "37512 / 04689 = 8\n",
      "37528 / 04691 = 8\n",
      "38152 / 04769 = 8\n",
      "41896 / 05237 = 8\n",
      "42968 / 05371 = 8\n",
      "46312 / 05789 = 8\n",
      "46328 / 05791 = 8\n",
      "46712 / 05839 = 8\n",
      "47136 / 05892 = 8\n",
      "47328 / 05916 = 8\n",
      "47368 / 05921 = 8\n",
      "51832 / 06479 = 8\n",
      "53928 / 06741 = 8\n",
      "54312 / 06789 = 8\n",
      "54328 / 06791 = 8\n",
      "54712 / 06839 = 8\n",
      "56984 / 07123 = 8\n",
      "58496 / 07312 = 8\n",
      "58912 / 07364 = 8\n",
      "59328 / 07416 = 8\n",
      "59368 / 07421 = 8\n",
      "63152 / 07894 = 8\n",
      "63528 / 07941 = 8\n",
      "65392 / 08174 = 8\n",
      "65432 / 08179 = 8\n",
      "67152 / 08394 = 8\n",
      "67352 / 08419 = 8\n",
      "67512 / 08439 = 8\n",
      "71456 / 08932 = 8\n",
      "71536 / 08942 = 8\n",
      "71624 / 08953 = 8\n",
      "71632 / 08954 = 8\n",
      "73248 / 09156 = 8\n",
      "73264 / 09158 = 8\n",
      "73456 / 09182 = 8\n",
      "74528 / 09316 = 8\n",
      "74568 / 09321 = 8\n",
      "74816 / 09352 = 8\n",
      "75328 / 09416 = 8\n",
      "75368 / 09421 = 8\n",
      "76184 / 09523 = 8\n",
      "76248 / 09531 = 8\n",
      "76328 / 09541 = 8\n",
      "83672 / 10459 = 8\n",
      "83752 / 10469 = 8\n",
      "84296 / 10537 = 8\n",
      "84632 / 10579 = 8\n",
      "84736 / 10592 = 8\n",
      "85392 / 10674 = 8\n",
      "85432 / 10679 = 8\n",
      "85936 / 10742 = 8\n",
      "86352 / 10794 = 8\n",
      "87456 / 10932 = 8\n",
      "87536 / 10942 = 8\n",
      "87624 / 10953 = 8\n",
      "87632 / 10954 = 8\n",
      "96584 / 12073 = 8\n",
      "98456 / 12307 = 8\n",
      "98760 / 12345 = 8\n",
      "57429 / 06381 = 9\n",
      "58239 / 06471 = 9\n",
      "75249 / 08361 = 9\n",
      "95742 / 10638 = 9\n",
      "95823 / 10647 = 9\n",
      "97524 / 10836 = 9\n",
      "No hay solución para n=10.\n",
      "No hay solución para n=11.\n",
      "45792 / 03816 = 12\n",
      "73548 / 06129 = 12\n",
      "89532 / 07461 = 12\n",
      "91584 / 07632 = 12\n",
      "67392 / 05184 = 13\n",
      "81549 / 06273 = 13\n",
      "94653 / 07281 = 13\n",
      "25746 / 01839 = 14\n",
      "27384 / 01956 = 14\n",
      "41538 / 02967 = 14\n",
      "46158 / 03297 = 14\n",
      "51492 / 03678 = 14\n",
      "54768 / 03912 = 14\n",
      "61572 / 04398 = 14\n",
      "65982 / 04713 = 14\n",
      "27945 / 01863 = 15\n",
      "92745 / 06183 = 15\n",
      "45936 / 02871 = 16\n",
      "73296 / 04581 = 16\n",
      "98352 / 06147 = 16\n",
      "26843 / 01579 = 17\n",
      "28543 / 01679 = 17\n",
      "29546 / 01738 = 17\n",
      "36958 / 02174 = 17\n",
      "45713 / 02689 = 17\n",
      "45781 / 02693 = 17\n",
      "54689 / 03217 = 17\n",
      "59126 / 03478 = 17\n",
      "64957 / 03821 = 17\n",
      "65297 / 03841 = 17\n",
      "67184 / 03952 = 17\n",
      "67218 / 03954 = 17\n",
      "76823 / 04519 = 17\n",
      "76891 / 04523 = 17\n",
      "78132 / 04596 = 17\n",
      "78523 / 04619 = 17\n",
      "78591 / 04623 = 17\n",
      "81532 / 04796 = 17\n",
      "83572 / 04916 = 17\n",
      "83657 / 04921 = 17\n",
      "89437 / 05261 = 17\n",
      "89471 / 05263 = 17\n",
      "89641 / 05273 = 17\n",
      "91426 / 05378 = 17\n",
      "92837 / 05461 = 17\n",
      "92871 / 05463 = 17\n",
      "93126 / 05478 = 17\n",
      "28674 / 01593 = 18\n",
      "51984 / 02736 = 19\n",
      "81567 / 04293 = 19\n",
      "No hay solución para n=20.\n",
      "No hay solución para n=21.\n",
      "51678 / 02349 = 22\n",
      "36294 / 01578 = 23\n",
      "81627 / 03549 = 23\n",
      "81972 / 03564 = 23\n",
      "39528 / 01647 = 24\n",
      "46872 / 01953 = 24\n",
      "No hay solución para n=25.\n",
      "42978 / 01653 = 26\n",
      "56498 / 02173 = 26\n",
      "61854 / 02379 = 26\n",
      "67314 / 02589 = 26\n",
      "67418 / 02593 = 26\n",
      "76518 / 02943 = 26\n",
      "82654 / 03179 = 26\n",
      "89726 / 03451 = 26\n",
      "92846 / 03571 = 26\n",
      "39852 / 01476 = 27\n",
      "49572 / 01836 = 27\n",
      "69741 / 02583 = 27\n",
      "96714 / 03582 = 27\n",
      "75348 / 02691 = 28\n",
      "37584 / 01296 = 29\n",
      "73689 / 02541 = 29\n",
      "No hay solución para n=30.\n",
      "No hay solución para n=31.\n",
      "75168 / 02349 = 32\n",
      "No hay solución para n=33.\n",
      "No hay solución para n=34.\n",
      "48265 / 01379 = 35\n",
      "63945 / 01827 = 35\n",
      "64295 / 01837 = 35\n",
      "74865 / 02139 = 35\n",
      "93485 / 02671 = 35\n",
      "No hay solución para n=36.\n",
      "65934 / 01782 = 37\n",
      "65892 / 01734 = 38\n",
      "74328 / 01956 = 38\n",
      "No hay solución para n=39.\n",
      "No hay solución para n=40.\n",
      "No hay solución para n=41.\n",
      "No hay solución para n=42.\n",
      "93654 / 02178 = 43\n",
      "58476 / 01329 = 44\n",
      "59268 / 01347 = 44\n",
      "67892 / 01543 = 44\n",
      "69432 / 01578 = 44\n",
      "95348 / 02167 = 44\n",
      "No hay solución para n=45.\n",
      "58374 / 01269 = 46\n",
      "No hay solución para n=47.\n",
      "No hay solución para n=48.\n",
      "No hay solución para n=49.\n",
      "No hay solución para n=50.\n",
      "No hay solución para n=51.\n",
      "95472 / 01836 = 52\n",
      "65879 / 01243 = 53\n",
      "75896 / 01432 = 53\n",
      "84376 / 01592 = 53\n",
      "92538 / 01746 = 53\n",
      "No hay solución para n=54.\n",
      "No hay solución para n=55.\n",
      "No hay solución para n=56.\n",
      "No hay solución para n=57.\n",
      "No hay solución para n=58.\n",
      "73986 / 01254 = 59\n",
      "No hay solución para n=60.\n",
      "No hay solución para n=61.\n",
      "79546 / 01283 = 62\n",
      "94736 / 01528 = 62\n",
      "No hay solución para n=63.\n",
      "No hay solución para n=64.\n",
      "No hay solución para n=65.\n",
      "83754 / 01269 = 66\n",
      "No hay solución para n=67.\n",
      "98736 / 01452 = 68\n",
      "No hay solución para n=69.\n",
      "No hay solución para n=70.\n",
      "No hay solución para n=71.\n",
      "No hay solución para n=72.\n",
      "No hay solución para n=73.\n",
      "No hay solución para n=74.\n",
      "No hay solución para n=75.\n",
      "No hay solución para n=76.\n",
      "No hay solución para n=77.\n",
      "No hay solución para n=78.\n",
      "No hay solución para n=79.\n",
      "No hay solución para n=80.\n",
      "No hay solución para n=81.\n"
     ]
    }
   ],
   "source": [
    "def main():\n",
    "    for n in range(2, 82):\n",
    "        noSolution = True\n",
    "        for fghij in range(1234, (98765//n) + 1):\n",
    "            abcde = fghij * n\n",
    "            used = (fghij < 10000)\n",
    "            tmp = abcde\n",
    "            while tmp != 0:\n",
    "                used |= 1<<(tmp%10)\n",
    "                tmp //= 10\n",
    "            tmp = fghij\n",
    "            while tmp != 0:\n",
    "                used |= 1<<(tmp%10)\n",
    "                tmp //= 10\n",
    "            if used == (1<<10) - 1:\n",
    "                print('{:05} / {:05} = {}'.format(abcde, fghij, n))\n",
    "                noSolution = False\n",
    "        if noSolution:\n",
    "            print('No hay solución para n={}.'.format(n))\n",
    "\n",
    "main()"
   ]
  },
  {
   "cell_type": "markdown",
   "id": "e3b16755",
   "metadata": {
    "slideshow": {
     "slide_type": "slide"
    }
   },
   "source": [
    "## Ejemplo 2:\n",
    "\n",
    "Encontrar todos los tríos de enteros positivos $A$, $B$ y $C$ $\\leq 10 000$, tal que hay otros tres enteros positivos $x$, $y$ y $z$ tal que $x+y+z=A$, $xyz=B$, y $x^2+y^2+z^2=C$.\n",
    "\n",
    "Análisis: Cuál es el espacio de búsqueda?. Bueno, los trios de números $(A, B, C)$ pueden ir de $1$ a $10 000$. En total, hay $10 000^3 = 10^{12}$, un número muy grande para ser analizado por búsqueda completa.\n",
    "\n",
    "Pero si buscamos en función de $x$, $y$ y $z$, la búsqueda es mejor: Vemos que $x^2+y^2+z^2=C \\leq 10 000$ implica que cada valor $-100 \\leq x, y , z \\leq 100$. Este espacio de búsqueda tiene apenas $200^3 \\approx 10^7$ elementos. "
   ]
  },
  {
   "cell_type": "code",
   "execution_count": 7,
   "id": "e700f355",
   "metadata": {
    "slideshow": {
     "slide_type": "slide"
    }
   },
   "outputs": [
    {
     "name": "stdout",
     "output_type": "stream",
     "text": [
      "Hay 143048 soluciones\n"
     ]
    }
   ],
   "source": [
    "def main():\n",
    "    s = []\n",
    "    for x in range(-100, 101):\n",
    "        for y in range(x, 101):\n",
    "            if  x*x + y*y <= 10000:\n",
    "                for z in range(y, 101):\n",
    "                    if  x+y+z >=1 and x*y*z >=1 and x*x + y*y + z*z <= 10000:\n",
    "                        s.append((x+y+z, x*y*z, x**2+y**2+z**2))\n",
    "    print(f'Hay {len(set(s))} soluciones')\n",
    "main()"
   ]
  },
  {
   "cell_type": "markdown",
   "id": "fe4e0c2d",
   "metadata": {
    "slideshow": {
     "slide_type": "slide"
    }
   },
   "source": [
    "### Ejemplo 3 (subconjuntos)\n",
    "\n",
    "Dada una lista conteniendo $1 \\leq n \\leq 20$ enteros, y un entero $X$, hay algún subconjunto de la lista cuya suma de sus elementos es $X$?\n",
    "\n",
    "Este es un ejercicio en donde una búsqueda completa necesita buscar entre todos los subconjuntos de la lista, que tiene $2^n$ elementos. **Generalmente, un algoritmo exponencial no es una solución suficientemente buena**, pero como el peor de los casos es $2^{20} \\approx 1048576 \\approx 10^6$, es algo analizable en 1 segundo computacional.\n",
    "\n",
    "En python, hay una excelente librería para contar subconjuntos/permutaciones/combinaciones\n",
    "https://docs.python.org/3/library/itertools.html"
   ]
  },
  {
   "cell_type": "code",
   "execution_count": 11,
   "id": "7faac7fc",
   "metadata": {
    "slideshow": {
     "slide_type": "slide"
    }
   },
   "outputs": [
    {
     "name": "stdout",
     "output_type": "stream",
     "text": [
      "4\n",
      "10\n",
      "1, 3, 6, 14\n",
      "Si hay subconjunto\n"
     ]
    }
   ],
   "source": [
    "import itertools\n",
    "N=int(input())\n",
    "X = int(input())\n",
    "L = [int(s) for s in input().split(\",\")]\n",
    "c = [list(itertools.combinations(L, i)) for i in range(1, N+1)]\n",
    "#print(c)\n",
    "c = list(itertools.chain(*c)) # combine lists\n",
    "#print(c)\n",
    "print(\"Si hay subconjunto\" if (X in [sum(S) for S in c]) else \"No hay subconjunto\")"
   ]
  },
  {
   "cell_type": "markdown",
   "id": "70fc1e52",
   "metadata": {
    "slideshow": {
     "slide_type": "slide"
    }
   },
   "source": [
    "### Ejercicios\n",
    "\n",
    "1. [Card Trick](https://open.kattis.com/problems/cardtrick2)\n",
    "2. [Black Friday](https://open.kattis.com/problems/blackfriday)\n",
    "3. [Dance recital](https://open.kattis.com/problems/dancerecital)\n",
    "4. [Geppetto](https://open.kattis.com/problems/geppetto)\n",
    "5. [Fallling](https://open.kattis.com/problems/falling)"
   ]
  },
  {
   "cell_type": "markdown",
   "id": "5aef3221",
   "metadata": {
    "slideshow": {
     "slide_type": "slide"
    }
   },
   "source": [
    "## Dividir para vencer\n",
    "\n",
    "Ya vimos un poco de esto en la clase pasada (búsqueda binaria, ordenamiento por mezcla). Dividir para vencer es una técnica tipo recursiva en donde\n",
    "\n",
    "1. Dividimos el problema original en sub-problemas\n",
    "2. Encontramos la solución del subproblema\n",
    "3. Combinamos las soluciones individuales para obtener la solución al problema original"
   ]
  },
  {
   "cell_type": "markdown",
   "id": "0316d21d",
   "metadata": {
    "slideshow": {
     "slide_type": "slide"
    }
   },
   "source": [
    "### Búsqueda binaria"
   ]
  },
  {
   "cell_type": "code",
   "execution_count": 19,
   "id": "65ff10a3",
   "metadata": {},
   "outputs": [
    {
     "name": "stdout",
     "output_type": "stream",
     "text": [
      "2\n"
     ]
    }
   ],
   "source": [
    "def binary_search(arr, target, low, high):\n",
    "    if low > high:\n",
    "        return -1  # No encontrado\n",
    "    mid = (low + high) // 2\n",
    "    if arr[mid] == target:\n",
    "        return mid  # Encontrado\n",
    "    elif arr[mid] > target:\n",
    "        return binary_search(arr, target, low, mid - 1)\n",
    "    else:\n",
    "        return binary_search(arr, target, mid + 1, high)\n",
    "\n",
    "# Ejemplo de uso\n",
    "arr = [1, 3, 5, 7, 9]\n",
    "print(binary_search(arr, 5, 0, len(arr) - 1))  # Imprime: 2\n"
   ]
  },
  {
   "cell_type": "markdown",
   "id": "a8620445",
   "metadata": {
    "slideshow": {
     "slide_type": "slide"
    }
   },
   "source": [
    "### Búsqueda ternaria"
   ]
  },
  {
   "cell_type": "code",
   "execution_count": 20,
   "id": "51403284",
   "metadata": {},
   "outputs": [
    {
     "name": "stdout",
     "output_type": "stream",
     "text": [
      "3\n"
     ]
    }
   ],
   "source": [
    "def ternary_search(arr, target, low, high):\n",
    "    if low > high:\n",
    "        return -1  # No encontrado\n",
    "    third = (high - low) // 3\n",
    "    mid1 = low + third\n",
    "    mid2 = high - third\n",
    "\n",
    "    if arr[mid1] == target:\n",
    "        return mid1  # Encontrado en mid1\n",
    "    elif arr[mid2] == target:\n",
    "        return mid2  # Encontrado en mid2\n",
    "    elif target < arr[mid1]:\n",
    "        return ternary_search(arr, target, low, mid1 - 1)\n",
    "    elif target > arr[mid2]:\n",
    "        return ternary_search(arr, target, mid2 + 1, high)\n",
    "    else:\n",
    "        return ternary_search(arr, target, mid1 + 1, mid2 - 1)\n",
    "\n",
    "# Ejemplo de uso\n",
    "arr = [1, 3, 5, 7, 9]\n",
    "print(ternary_search(arr, 7, 0, len(arr) - 1))  # Imprime: 3\n"
   ]
  },
  {
   "cell_type": "markdown",
   "id": "11d4a467",
   "metadata": {
    "slideshow": {
     "slide_type": "slide"
    }
   },
   "source": [
    "### Ordenamiento por mezcla"
   ]
  },
  {
   "cell_type": "code",
   "execution_count": 21,
   "id": "21a96edd",
   "metadata": {},
   "outputs": [
    {
     "name": "stdout",
     "output_type": "stream",
     "text": [
      "[1, 3, 5, 7, 9]\n"
     ]
    }
   ],
   "source": [
    "def merge_sort(arr):\n",
    "    if len(arr) <= 1:\n",
    "        return arr  # Caso base\n",
    "    mid = len(arr) // 2\n",
    "    left = merge_sort(arr[:mid])\n",
    "    right = merge_sort(arr[mid:])\n",
    "    return merge(left, right)\n",
    "\n",
    "def merge(left, right):\n",
    "    sorted_arr = []\n",
    "    i = j = 0\n",
    "    while i < len(left) and j < len(right):\n",
    "        if left[i] <= right[j]:\n",
    "            sorted_arr.append(left[i])\n",
    "            i += 1\n",
    "        else:\n",
    "            sorted_arr.append(right[j])\n",
    "            j += 1\n",
    "    sorted_arr.extend(left[i:])\n",
    "    sorted_arr.extend(right[j:])\n",
    "    return sorted_arr\n",
    "\n",
    "# Ejemplo de uso\n",
    "arr = [9, 7, 5, 3, 1]\n",
    "print(merge_sort(arr))  # Imprime: [1, 3, 5, 7, 9]\n"
   ]
  },
  {
   "cell_type": "markdown",
   "id": "be3c1abd",
   "metadata": {
    "slideshow": {
     "slide_type": "slide"
    }
   },
   "source": [
    "### Ejercicios\n",
    "\n",
    "1. [Room Painting](https://open.kattis.com/problems/roompainting)\n",
    "2. [Monk](https://open.kattis.com/problems/monk)\n",
    "3. [Reconnaissance](https://open.kattis.com/problems/reconnaissance)\n"
   ]
  },
  {
   "cell_type": "markdown",
   "id": "030b16cc",
   "metadata": {
    "slideshow": {
     "slide_type": "slide"
    }
   },
   "source": [
    "## Greedy\n",
    "\n",
    "Un algoritmo se dice 'greedy' cuando \n",
    "\n",
    "1. Estamos en una especie de búsqueda, en un estado que no es solución\n",
    "2. Hay una forma de pasar de un nodo a otro, de forma heurística\n",
    "3. Para pasar al otro nodo, siempre tomando una decisión de optimización **local**\n",
    "\n",
    "En ese sentido, es una forma de no realizar una búsqueda completa, generalmente porque es impracticable."
   ]
  },
  {
   "cell_type": "markdown",
   "id": "f78f206f",
   "metadata": {
    "slideshow": {
     "slide_type": "slide"
    }
   },
   "source": [
    "### Ejemplo: Vuelto en billetes\n",
    "\n",
    "Cual es la mínima cantidad de billetes que necesitamos para darle su vuelto a una persona?.\n",
    "\n",
    "Análisis: Tenemos una lista de billetes. Queremos buscar un conjunto de billetes para darle un vuelto $V$ a una persona. Inicialmente (nodo inicial), no tenemos ningún billete en la mano. Queremos pasar a una mejor solución (pasar de un nodo a otro nodo). "
   ]
  },
  {
   "cell_type": "markdown",
   "id": "cc0df8e7",
   "metadata": {
    "slideshow": {
     "slide_type": "slide"
    }
   },
   "source": [
    "Cuál es la heurística? Podemos agarrar el mayor billete posible que no es mayor al vuelto. Por ejemplo, si el vuelto es 76mil, agarro un billete de 50 mil guaranies (el mayor posible sin superar 76 mil). \n",
    "\n",
    "Esta heurística siempre da la mejor solución? No sabemos, pero es una heurística que nos permite siempre dar un vuelto. Ahora, con 50mil en la mano, es un problema equivalente a buscar un vuelto de 26mil guaranies\n",
    "\n",
    "(Cuál es la optimización local? Agarrar siempre el mayor billete posible, pues eso nos da una idea de que necesitamos menos billetes en general así) (Billetes grandes = pocos billetes)"
   ]
  },
  {
   "cell_type": "markdown",
   "id": "74851eee",
   "metadata": {
    "slideshow": {
     "slide_type": "subslide"
    }
   },
   "source": [
    "Sin embargo, este algoritmo no siempre funciona. El gran problema con los algoritmos greedy es que son intuitivos, y a veces asumimos que resuelven siempre nuestro problema. Son métodos que suelen ser computacionalmente mucho más eficientes que búsquedas completas, pero hay que usarlos con cuidado o en conjunción con otras técnicas."
   ]
  },
  {
   "cell_type": "markdown",
   "id": "801904a7",
   "metadata": {
    "slideshow": {
     "slide_type": "slide"
    }
   },
   "source": [
    "Por ejemplo, si hay solamente billetes de 1mil, 3mil y 4mil, y el vuelto es de 6mil, entonces el algoritmo greedy quiere devolver un billete de 4mil de vuelto y dos billetes de 1mil. Sin embargo, es mejor dar dos billetes de 3mil"
   ]
  },
  {
   "cell_type": "markdown",
   "id": "c6ebd834",
   "metadata": {
    "slideshow": {
     "slide_type": "slide"
    }
   },
   "source": [
    "### Ejercicios\n",
    "\n",
    "1. [Classrooms](https://open.kattis.com/problems/classrooms)\n",
    "2. [Square pegs](https://open.kattis.com/problems/squarepegs)\n",
    "3. [Colors](https://open.kattis.com/problems/color)\n",
    "4. [Minimum scalar](https://open.kattis.com/problems/minimumscalar)\n",
    "5. [Birds](https://open.kattis.com/problems/birds)\n"
   ]
  },
  {
   "cell_type": "markdown",
   "id": "969591a4",
   "metadata": {
    "slideshow": {
     "slide_type": "slide"
    }
   },
   "source": [
    "## Programación dinámica\n",
    "\n",
    "Programación dinámica es el equivalente a utilizar la información que tenemos a disposición para poder ahorrar cálculos. El ejemplo clásico es:"
   ]
  },
  {
   "cell_type": "code",
   "execution_count": null,
   "id": "bc1d13f1",
   "metadata": {
    "slideshow": {
     "slide_type": "slide"
    }
   },
   "outputs": [],
   "source": [
    "# Función de fibonacci\n",
    "def fibo(n):\n",
    "    if n <=1:\n",
    "        return 1\n",
    "    else:\n",
    "        return fibo(n-1) + fibo(n-2)\n",
    "    \n",
    "\n",
    "fibo(40)"
   ]
  },
  {
   "cell_type": "markdown",
   "id": "5496bfda",
   "metadata": {
    "slideshow": {
     "slide_type": "slide"
    }
   },
   "source": [
    "cuál es el \"problema\" con esta implementación?"
   ]
  },
  {
   "cell_type": "markdown",
   "id": "21c423c4",
   "metadata": {
    "slideshow": {
     "slide_type": "subslide"
    }
   },
   "source": [
    "Necesita $2^n$ llamados a la función fibo! La técnica de memorización es nada más ni nada menos que usar lo que se llama de hash table, para reutilizar valores previamente calculados:"
   ]
  },
  {
   "cell_type": "code",
   "execution_count": 15,
   "id": "5cd1c8c7",
   "metadata": {
    "slideshow": {
     "slide_type": "slide"
    }
   },
   "outputs": [
    {
     "name": "stdout",
     "output_type": "stream",
     "text": [
      "Fibonacci(1000) = 43466557686937456435688527675040625802564660517371780402481729089536555417949051890403879840079255169295922593080322634775209689623239873322471161642996440906533187938298969649928516003704476137795166849228875\n"
     ]
    }
   ],
   "source": [
    "def fibonacci(n):\n",
    "    # Create a table to store Fibonacci values\n",
    "    fib_table = [0] * (n + 1)\n",
    "    \n",
    "    # Base cases\n",
    "    fib_table[0] = 0\n",
    "    fib_table[1] = 1\n",
    "    \n",
    "    # Build the table from 2 to n\n",
    "    for i in range(2, n + 1):\n",
    "        fib_table[i] = fib_table[i - 1] + fib_table[i - 2]\n",
    "    \n",
    "    return fib_table[n]\n",
    "\n",
    "# Example usage\n",
    "n = 1000\n",
    "print(f\"Fibonacci({n}) = {fibonacci(n)}\")\n"
   ]
  },
  {
   "cell_type": "markdown",
   "id": "275bbe87",
   "metadata": {
    "slideshow": {
     "slide_type": "slide"
    }
   },
   "source": [
    "Programación dinámica se usa generalmente para resolver problemas de optimización y de conteo. \n",
    "\n",
    "### Ejemplo:\n",
    "Tenemos $M$ de dinero, y queremos comprar exactamente uno de cada uno de los $C$ tipos de ropas (blusas, zapatos, shorts, medias, etc). Para cada tipo de ropa `i`, hay diferentes marcas de ropa (dada por la lista `Marcas[i]`, cada uno con su precio (dado por la lista de precios `Precios[i][j]`. La respuesta debe ser la máxima cantidad de dinero que podemos gastar satisfaciendo las condiciones del problema.\n"
   ]
  },
  {
   "cell_type": "markdown",
   "id": "dcf87b63",
   "metadata": {
    "slideshow": {
     "slide_type": "subslide"
    }
   },
   "source": [
    "Por ejemplo si `M = 20`, `C = 3`, `Marcas = [3, 2, 4]`, `Precios = [[6, 4, 8], [5, 10], [1, 5, 3, 5]]`, la solución optima implica gastar 19, usando `Precios[0][2] + Precios[1][1] + Precios[2][0]`. "
   ]
  },
  {
   "cell_type": "markdown",
   "id": "f3da9872",
   "metadata": {
    "slideshow": {
     "slide_type": "slide"
    }
   },
   "source": [
    "### Solución Greedy (equivocada)\n",
    "\n",
    "Una solución greedy implica siempre comprar la pieza de ropa más cara, pues queremos maximizar la cantidad de dinero que gastamos\n",
    "\n"
   ]
  },
  {
   "cell_type": "markdown",
   "id": "f66af5c9",
   "metadata": {
    "slideshow": {
     "slide_type": "slide"
    }
   },
   "source": [
    "Sin embargo, no funciona para el siguiente caso:\n",
    "\n",
    "Por ejemplo si `M = 12`, `C = 3`, `Marcas = [3, 2, 4]`, `Precios = [[6, 4, 8], [5, 10], [1, 5, 3, 5]]`, la solución optima implica gastar 12, usando `Precios[0][1] + Precios[1][0] + Precios[2][02]`, pero el greedy quiere agarrar `Precios[0][2]`, una forma equivocada. "
   ]
  },
  {
   "cell_type": "markdown",
   "id": "e8132f77",
   "metadata": {
    "slideshow": {
     "slide_type": "slide"
    }
   },
   "source": [
    "### Búsqueda completa (impracticable)\n",
    "\n",
    "Para hacer una búsqueda completa, podemos usar una función `dp(g, b)` que resuelve el subproblema con `g` tipos de ropa y con presupuesto `b`. El par $(g, b)$ es el estado del problema. Iniciamos con el tipo de ropa $g = 0$, y con todo el presupuesto $b = M$.\n",
    "\n",
    "Intentamos todas las ropas con $g=0$, si el modelo $i$ es elegido, el nuevo presupeusto es `b - Precios[0][i]`. Si en algún momento $b < 0$, entonces la solución con el estado actual se cataloga como imposible.\n",
    "\n",
    "Entre todas las candidatas, escogemos aquella que se corresponde con el menor presupuesto no negativo.\n",
    "\n",
    "Esta solución funciona, pero es muy lenta! Para apenas 20 tipos de ropa, necesitamos analizar como $20^{20}$ casos. "
   ]
  },
  {
   "cell_type": "markdown",
   "id": "89318fef",
   "metadata": {
    "slideshow": {
     "slide_type": "slide"
    }
   },
   "source": [
    "### Dividir para vencer (impracticable)\n",
    "\n",
    "Esto no se puede aplicar ahora porque no hay una forma de dividir en subproblemas independientes. El presupuesto en un conjunto de ropas influencia el presupuesto en el otro conjunto de ropas. "
   ]
  },
  {
   "cell_type": "markdown",
   "id": "74d20da4",
   "metadata": {
    "slideshow": {
     "slide_type": "slide"
    }
   },
   "source": [
    "### Programación dinámica. \n",
    "\n",
    "Esto que comentamos en dividir para vencer es la clave: Como el espacio de búsqueda no es completameente independiente, eso significa que hay chance de ahorrar cálculos!"
   ]
  },
  {
   "cell_type": "markdown",
   "id": "5e73a146",
   "metadata": {
    "slideshow": {
     "slide_type": "subslide"
    }
   },
   "source": [
    "Para calcular `dp(g, b)` de manera recursiva, solo necesitamos calcular cada valor de `dp(g, b)` **una vez** (memorizamos las respuestas y las usamos para calcular los sucesivos estados!). Si hay 20 tipos de ropas, y el precio va de 1 a 200, hay en total $20 \\times 200 = 4000$ estados a ser calculados, una cantidad mucho menor!"
   ]
  },
  {
   "cell_type": "markdown",
   "id": "fd7c9a80",
   "metadata": {
    "slideshow": {
     "slide_type": "subslide"
    }
   },
   "source": [
    "Programación dinámica en este caso implica definir una lista multidimensional que guarda los valores de `dp(g, b)`.\n",
    "\n",
    "* Si la lista ya tiene un valor, usamos eso (hashing table) para calcular `dp(g, b)`. \n",
    "* Si no, lo calculamos por fuerza bruta y actualizamos el hashing table.\n"
   ]
  },
  {
   "cell_type": "code",
   "execution_count": null,
   "id": "04fe0cd1",
   "metadata": {
    "slideshow": {
     "slide_type": "slide"
    }
   },
   "outputs": [],
   "source": [
    "import sys\n",
    "from functools import lru_cache\n",
    "sys.setrecursionlimit(5000)\n",
    "\n",
    "def main():                                       # easy to code\n",
    "    TC = int(input())\n",
    "    for _ in range(TC):\n",
    "        M,C = map(int, input().split())\n",
    "        price = [[] * 20 for _ in range(C)]\n",
    "        for g in range(C):\n",
    "            price[g] = list(map(int, input().split())) # store k in price[g][0]\n",
    "\n",
    "        @lru_cache(maxsize=None)                  # built-in memoization\n",
    "        def dp(g, money):\n",
    "            if money < 0: return -1e9             # fail, return -ve number\n",
    "            if g == C: return M-money             # we are done\n",
    "            ans = -1                              # start with a -ve number\n",
    "            for k in range(1, price[g][0]+1):     # try each model k\n",
    "                ans = max(ans, dp(g+1, money-price[g][k]))\n",
    "            return ans                            # TOP-DOWN: memoize ans\n",
    "\n",
    "        if dp(0, M) < 0:                          # start the top-down DP\n",
    "            print(\"no solution\")\n",
    "        else:\n",
    "            print(\"{}\".format(dp(0, M)))\n",
    "\n",
    "main()"
   ]
  },
  {
   "cell_type": "markdown",
   "id": "8fb52a35",
   "metadata": {
    "slideshow": {
     "slide_type": "slide"
    }
   },
   "source": [
    "## Ejercicios\n",
    "\n",
    "1. [Commercials](https://open.kattis.com/problems/commercials)\n",
    "2. [Selling Spatulas](https://open.kattis.com/problems/sellingspatulas)\n",
    "3. [Alphabet](https://open.kattis.com/problems/alphabet)\n",
    "4. [Knapsack](https://open.kattis.com/problems/knapsack)\n",
    "5. [Canonical](https://open.kattis.com/problems/canonical)\n",
    "6. [Nikola](https://open.kattis.com/problems/nikola)\n",
    "7. [Spiderman](https://open.kattis.com/problems/spiderman)\n"
   ]
  }
 ],
 "metadata": {
  "celltoolbar": "Slideshow",
  "kernelspec": {
   "display_name": "Python [conda env:progcompetitiva]",
   "language": "python",
   "name": "conda-env-progcompetitiva-py"
  },
  "language_info": {
   "codemirror_mode": {
    "name": "ipython",
    "version": 3
   },
   "file_extension": ".py",
   "mimetype": "text/x-python",
   "name": "python",
   "nbconvert_exporter": "python",
   "pygments_lexer": "ipython3",
   "version": "3.12.5"
  }
 },
 "nbformat": 4,
 "nbformat_minor": 5
}
