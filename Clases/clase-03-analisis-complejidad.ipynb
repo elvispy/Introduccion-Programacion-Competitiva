{
 "cells": [
  {
   "cell_type": "markdown",
   "id": "bb6ec570",
   "metadata": {
    "slideshow": {
     "slide_type": "slide"
    }
   },
   "source": [
    "# Análisis de complejidad algorítmica"
   ]
  },
  {
   "cell_type": "markdown",
   "id": "2557d4e7",
   "metadata": {
    "slideshow": {
     "slide_type": "fragment"
    }
   },
   "source": [
    "Una característica representativa de las competiciones de programación es el análisis de los algoritmos antes de submeterlos. \n",
    "\n",
    "Esto se debe a que las restricciones puestas en estos tipos de problemas suelen ser inteligentemente escogidos. \n",
    "\n",
    "Muchos algoritmos pueden resolver un problema, pero algunos son más eficientes que otros.\n",
    "\n",
    "\n",
    "¿Cómo podemos saber si nuestro algoritmo es lo suficientemente eficiente?"
   ]
  },
  {
   "cell_type": "markdown",
   "id": "c9194015",
   "metadata": {
    "slideshow": {
     "slide_type": "slide"
    }
   },
   "source": [
    "Primeramente, un computador típico hoy en día puede realizar aproximadamente *100 millones*, o *$10^8$* operaciones por segundo.\n",
    "\n",
    "Una operación se refiere a cualquiera de los siguientes elementos de un código:\n",
    "- Asignar o leer una variable\n",
    "- Una suma, resta, multiplicación, división o exponenciación\n",
    "- Alguna operación binaria (comparación `==`, `and`, `or`, u otros)\n",
    "- Llamar a cualquier función built-in de python (pop, push, split, etc)"
   ]
  },
  {
   "cell_type": "code",
   "execution_count": null,
   "id": "d0c5721c",
   "metadata": {
    "slideshow": {
     "slide_type": "fragment"
    }
   },
   "outputs": [],
   "source": [
    "# Ejemplo 1\n",
    "# ¿Cuántas operaciones se hacen en esta célula?\n",
    "a = 1\n",
    "for i in range(10):\n",
    "    a += i"
   ]
  },
  {
   "cell_type": "markdown",
   "id": "b2e4cf8e",
   "metadata": {
    "slideshow": {
     "slide_type": "slide"
    }
   },
   "source": [
    "## Notación O\n",
    "\n",
    "La notación O mayúscula nos permite estimar cuántas operaciones necesita nuestro programa para finalizar. Con una estimativa de cuántas operaciones tenemos disponibles, podemos saber si nuestro algoritmo es lo suficientemente bueno."
   ]
  },
  {
   "cell_type": "markdown",
   "id": "52a3b614",
   "metadata": {
    "slideshow": {
     "slide_type": "fragment"
    }
   },
   "source": [
    "1. Primeramente, debemos identificar cuáles son las variables de entrada. Supongamos que hay una sola, digamos que es `n`\n",
    "2. Ahora debemos calcular la cantidad de operaciones que realizar nuestro algoritmo. Como el valor de la cantidad de operaciones puede depender de la variable de entrada `n`, obtenemos una expresión que depende de `n`. \n",
    "3. El término dominante de la función es aquel que crece más rápido cuando `n` se vuelve grande. Este término dominante es igual a la complejidad computacional de nuestro algoritmo, denotado por $O(expresión)$"
   ]
  },
  {
   "cell_type": "code",
   "execution_count": null,
   "id": "f9cf799f",
   "metadata": {
    "slideshow": {
     "slide_type": "slide"
    }
   },
   "outputs": [],
   "source": [
    "# Ejemplo\n",
    "n = int(input())\n",
    "a = 0\n",
    "for i in range(n): # 3n operaciones\n",
    "    a = n**2 + n # Una asignación + una potenciación + una suma = 3 operaciones\n",
    "for i in range(n): # 4n^2 operaciones\n",
    "    for j in range(n):\n",
    "        a += i * j # Una multiplicación + una asignación = 2 operaciones\n",
    "# Total: 4n^2 + 3n"
   ]
  },
  {
   "cell_type": "markdown",
   "id": "7e762448",
   "metadata": {
    "slideshow": {
     "slide_type": "fragment"
    }
   },
   "source": [
    "### Análisis\n",
    "\n",
    "1. En el ejemplo anterior hay una sola variable de entrada, `n`.\n",
    "2. La cantidad de operaciones depende de `n` y es aproximadamente igual a $4n^2+3n$.\n",
    "3. El término dominante siempre es aquel cuyo exponente es mayor. Es decir, aquel término de mayor grado. Por ejemplo, supongamos que $n=100$. Entonces $4n^2 = 40000$, mientras que $3n = 300$. En ese sentido, $4n^2$ es el término dominante. Por lo tanto, el algoritmo tiene una complejidad $O(2n^2)$. En la notacion O, las constantes no importan, entonces podemos escribir también $O(n^2)$. "
   ]
  },
  {
   "cell_type": "markdown",
   "id": "c949b8f1",
   "metadata": {
    "slideshow": {
     "slide_type": "slide"
    }
   },
   "source": [
    "## Análisis (2)\n",
    "\n",
    "Suponiendo que $n = 100$, eso significa que un algoritmo $O(n^2)$ necesita aproximadamente $10000$ operaciones. Es decir, podemos estimar que va a necesitar $10000/10^8=1/10^3$ segundos, es decir, $0.001 s = 1 ms$, un milisegundo. \n",
    "\n",
    "La siguiente tabla nos puede servir para estimar la complejidad que debemos esperar para resolver un problema\n",
    "\n",
    "\n"
   ]
  },
  {
   "cell_type": "markdown",
   "id": "29dc6709",
   "metadata": {
    "slideshow": {
     "slide_type": "fragment"
    }
   },
   "source": [
    "| $n$        | Peor complejidad$^*$ | Ejemplo |\n",
    "| --------   | -------              | -------- |\n",
    "| $\\leq 10$  | $O(n!)$, $O(n^6)$    | Permutaciones |\n",
    "| $\\leq 18$  | $O(2^n \\times n^2)$  | Problema del viajante + programación dinámica |\n",
    "| $\\leq 22$  | $O(2^n \\times n)$    | Programación dinámica + representación binaria |\n",
    "| $\\leq 26$  | $O(2^n)$             | Búsqueda de subconjuntos |\n",
    "| $\\leq 100$ | $O(n^4)$             | Cuatro bucles foor anidados |\n",
    "| $\\leq 450$ | $O(n^3)$             | Algoritmo FLoyd-Warshall |\n",
    "| $\\leq 2500$| $O(n^2\\cdot\\log_2(n))$| Dos bucles for anidados + búsqueda binaria  |\n",
    "|$\\leq 10k$ | $O(n^2$              | Ordenamiento burbuja|\n",
    "|$\\leq 4.5M$ | $O(n\\cdot\\log_2(n))$ | Ordenamiento merge  | \n",
    "|$\\leq 100M$ | $O(n)$, $O(\\log_2(n))$, $O(1)$| Fórmula cerrada |\n",
    "\n",
    "\n",
    "\n",
    "$^*$Suponiendo que tenemos 100 millones de operaciones disponibles para realizarlos en 1 segundo."
   ]
  },
  {
   "cell_type": "markdown",
   "id": "80b1dd1f",
   "metadata": {
    "slideshow": {
     "slide_type": "slide"
    }
   },
   "source": [
    "## Algunos consejos\n",
    "\n",
    "1. Si tenemos un bucle con $n$ iteraciones, y cada iteración tiene complejidad $O(f(n))$, entonces el bucle exterior tiene complejidad $O(nf(n))$. En particular, $k$ bucles anidados donde el bucle más interno solo hace una operación, tiene complejidad $O(n^k)$. "
   ]
  },
  {
   "cell_type": "code",
   "execution_count": null,
   "id": "33616cab",
   "metadata": {
    "slideshow": {
     "slide_type": "-"
    }
   },
   "outputs": [],
   "source": [
    "n = int(input())\n",
    "for i in range(n): # O(n^3)\n",
    "    for j in range(n): # O(n^2)\n",
    "        for k in range(n): # O(n)\n",
    "            print(i*j*k) # O(1)"
   ]
  },
  {
   "cell_type": "markdown",
   "id": "1fe7bc44",
   "metadata": {
    "slideshow": {
     "slide_type": "slide"
    }
   },
   "source": [
    "2. Si tenemos dos secciones de código que no están anidados, y tienen complejidades $O(f_1(n))$ y $O(f_2(n))$, entonces la complejidad de las dos secciones juntas es $O(f_1(n) + f_2(n))$"
   ]
  },
  {
   "cell_type": "code",
   "execution_count": null,
   "id": "f398723e",
   "metadata": {},
   "outputs": [],
   "source": [
    "n = int(input())\n",
    "for j in range(n): # O(n^2)\n",
    "    for k in range(n): # O(n)\n",
    "        print(i*j*k) # O(1)\n",
    "        \n",
    "for i in range(n): # O(n^3)\n",
    "    for j in range(n): # O(n^2)\n",
    "        for k in range(n): # O(n)\n",
    "            print(i*j*k) # O(1)\n",
    "            \n",
    "# Total: O(n^2 + n^3) = O(n^3)"
   ]
  },
  {
   "cell_type": "markdown",
   "id": "f74ef2db",
   "metadata": {
    "slideshow": {
     "slide_type": "slide"
    }
   },
   "source": [
    "3. Para calcular la complejidad de una función recursiva, necesitamos estimar cuántas llamadas se hacen hasta llegar al caso base. \n",
    "\n",
    "La complejidad de esta función es $O(n)$"
   ]
  },
  {
   "cell_type": "code",
   "execution_count": null,
   "id": "3820a255",
   "metadata": {},
   "outputs": [],
   "source": [
    "def recursiveFun(n):\n",
    "    if (n <= 0):\n",
    "        return 1\n",
    "    else\n",
    "        return 1 + recursiveFun(n-5)"
   ]
  },
  {
   "cell_type": "markdown",
   "id": "41c27a0c",
   "metadata": {
    "slideshow": {
     "slide_type": "fragment"
    }
   },
   "source": [
    "Pero la complejidad de esta función es $O(2^n)$."
   ]
  },
  {
   "cell_type": "code",
   "execution_count": 2,
   "id": "1a51a246",
   "metadata": {},
   "outputs": [],
   "source": [
    "def recursiveFun4(n, m, o):\n",
    "    if (n <= 0):\n",
    "        return m + o\n",
    "    else:\n",
    "        recursiveFun4(n-1, m+1, o)\n",
    "        recursiveFun4(n-1, m, o+1)"
   ]
  },
  {
   "cell_type": "markdown",
   "id": "376b19d9",
   "metadata": {
    "slideshow": {
     "slide_type": "slide"
    }
   },
   "source": [
    "## Ejemplos y ejercicios"
   ]
  },
  {
   "cell_type": "markdown",
   "id": "b2a796ed",
   "metadata": {},
   "source": [
    "### Ejemplo 1:\n",
    "Función que devuelve `True` si objetivo está dentro de lista. \n",
    "La variable de entrada es el tamaño de la lista, $n$. \n",
    "\n",
    "Dependiendo de dónde está el objetivo ubicado en la lista, la cantidad de operaciones muda. Recordemos que la notación O es un proceso intrínsecamente inexacto. Sobre el punto, tenemos un par de opciones\n",
    "1. Considerar el peor caso posible como representativo de la cantidad de operaciones necesarias\n",
    "2. Considerar el promedio de los casos que podemos recibir\n",
    "\n",
    "Elegir cuál opción es la adecuada no es una tarea fácil, y depende mayormente de la experiencia del programador. "
   ]
  },
  {
   "cell_type": "code",
   "execution_count": null,
   "id": "7f8a5b90",
   "metadata": {},
   "outputs": [],
   "source": [
    "def busqueda_lineal(lista, objetivo):\n",
    "    for i in range(len(lista)):\n",
    "        if lista[i] == objetivo:\n",
    "            return True\n",
    "    return False"
   ]
  },
  {
   "cell_type": "markdown",
   "id": "7355f796",
   "metadata": {
    "slideshow": {
     "slide_type": "slide"
    }
   },
   "source": [
    "En el peor de los casos, la búsqueda lineal necesita aproximadamente $n$ operaciones. Por lo tanto, la complejidad es $O(n)$.\n",
    "\n",
    "Es más difícil estimar el promedio, pues no sabemos qué tan común es que el objetivo no esté en la lista. Si el objetivo está dentro de la lista, podríamos estimar que necesita recorrer hasta más o menos la mitad de la lista, es decir, $n/2$. La complejidad es $O(n/2) = O(n)$ (pues las constantes no importan).\n",
    "\n",
    "En este caso, ambos análisis concuerdan, lo cual suele ocurrir, pero no siempre."
   ]
  },
  {
   "cell_type": "markdown",
   "id": "f608827a",
   "metadata": {
    "slideshow": {
     "slide_type": "slide"
    }
   },
   "source": [
    "### Ejemplo 2:\n",
    "\n",
    "La búsqueda binaria es un algoritmo que cumple el mismo objetivo que el ejemplo anterior, pero asume que la lista está *ordenada*. La complejidad del algoritmo es $O(\\log_2(n))$."
   ]
  },
  {
   "cell_type": "code",
   "execution_count": null,
   "id": "e905b410",
   "metadata": {},
   "outputs": [],
   "source": [
    "def busqueda_binaria(lista, objetivo):\n",
    "    izquierda, derecha = 0, len(lista) - 1\n",
    "    while izquierda <= derecha:\n",
    "        medio = (izquierda + derecha) // 2\n",
    "        if lista[medio] == objetivo:\n",
    "            return medio\n",
    "        elif lista[medio] < objetivo:\n",
    "            izquierda = medio + 1\n",
    "        else:\n",
    "            derecha = medio - 1\n",
    "    return -1"
   ]
  },
  {
   "cell_type": "markdown",
   "id": "b7ecd7b9",
   "metadata": {
    "slideshow": {
     "slide_type": "slide"
    }
   },
   "source": [
    "### Ejemplo 3:\n",
    "\n",
    "Ordenamiento burbuja es un algoritmo que ordena una lista\n",
    "\n",
    "Complejidad $O(n^2)$, pues hay dos bucles anidados y la operación más interna es de complejidad constante"
   ]
  },
  {
   "cell_type": "code",
   "execution_count": null,
   "id": "9fd431b0",
   "metadata": {},
   "outputs": [],
   "source": [
    "def ordenamiento_burbuja(lista):\n",
    "    n = len(lista)\n",
    "    for i in range(n): # O(n^2)\n",
    "        for j in range(0, n-i-1): # O(n)\n",
    "            if lista[j] > lista[j+1]: # O(1)\n",
    "                lista[j], lista[j+1] = lista[j+1], lista[j]"
   ]
  },
  {
   "cell_type": "markdown",
   "id": "90aef610",
   "metadata": {
    "slideshow": {
     "slide_type": "slide"
    }
   },
   "source": [
    "### Ejemplo 4:\n",
    "\n",
    "Multiplicación de dos matrices $A$ y $B$. Vemos que la función consta de dos partes. La definición de `resultado`, y los bucles anidados. La complejidad total es la tuma de las dos complejidades. \n",
    "\n",
    "La definición de `resultado` consta de dos bucles for anidados, luego su complejidad es aproximadamente $O(n^2)$.\n",
    "\n",
    "Los tres bucles anidados tienen como operación más interna una multiplicación, una suma y una asignación. Su complejidad interna es $O(1)$, y por lo tanto los bucles tienen complejidad $O(3n^3)$. \n",
    "\n",
    "La complejidad total es $O(3n^3 + n^2) = O(n^3)$. \n"
   ]
  },
  {
   "cell_type": "code",
   "execution_count": null,
   "id": "c5387d42",
   "metadata": {},
   "outputs": [],
   "source": [
    "def multiplicar_matrices(A, B):\n",
    "    resultado = [[0 for _ in range(len(B[0]))] for _ in range(len(A))]\n",
    "    for i in range(len(A)):\n",
    "        for j in range(len(B[0])):\n",
    "            for k in range(len(B)):\n",
    "                resultado[i][j] += A[i][k] * B[k][j]\n",
    "    return resultado\n"
   ]
  },
  {
   "cell_type": "markdown",
   "id": "37a5c0d5",
   "metadata": {
    "slideshow": {
     "slide_type": "slide"
    }
   },
   "source": [
    "### Ejemplo 5:\n",
    "\n",
    "Muchas vecces hay más de una variable de entrada. La expresión que determina la complejidad pued depender de todas las variables que necesites, pues el objetivo final siempre es aproximar si tu algoritmo va a terminar o no. Por ejemplo, la siguiente función calcula el menor valor en una matriz aleatoria de tamaño $m \\times n$. "
   ]
  },
  {
   "cell_type": "code",
   "execution_count": 8,
   "id": "9916a9a4",
   "metadata": {},
   "outputs": [
    {
     "name": "stdout",
     "output_type": "stream",
     "text": [
      "El minimo es:  0.07347415539741864\n"
     ]
    }
   ],
   "source": [
    "from random import random\n",
    "def minimo(m, n):\n",
    "    minimo = 2\n",
    "    for i in range(m):\n",
    "        for j in range(n):\n",
    "            valor = random()\n",
    "            if valor < minimo:\n",
    "                minimo = valor\n",
    "    print(\"El minimo es: \", minimo)\n",
    "    \n",
    "minimo(4, 3)"
   ]
  },
  {
   "cell_type": "markdown",
   "id": "d89fa7a9",
   "metadata": {},
   "source": [
    "La complejidad del algoritmo es $O(mn)$. "
   ]
  },
  {
   "cell_type": "markdown",
   "id": "091e2411",
   "metadata": {
    "slideshow": {
     "slide_type": "slide"
    }
   },
   "source": [
    "## Ejercicios"
   ]
  },
  {
   "cell_type": "markdown",
   "id": "364aa6e2",
   "metadata": {},
   "source": [
    "### Ejercicio 1\n",
    "\n",
    "¿Cuál es la complejidad de la siguiente función?"
   ]
  },
  {
   "cell_type": "code",
   "execution_count": null,
   "id": "85597b6e",
   "metadata": {},
   "outputs": [],
   "source": [
    "def encontrar_maximo(lista):\n",
    "    maximo = lista[0]\n",
    "    for i in range(1, len(lista)):\n",
    "        if lista[i] > maximo:\n",
    "            maximo = lista[i]\n",
    "    return maximo"
   ]
  },
  {
   "cell_type": "markdown",
   "id": "b95e9555",
   "metadata": {
    "slideshow": {
     "slide_type": "slide"
    }
   },
   "source": [
    "### Ejercicio 2\n",
    "\n",
    "¿Cuál es la complejidad de la siguiente función?"
   ]
  },
  {
   "cell_type": "code",
   "execution_count": null,
   "id": "469526da",
   "metadata": {},
   "outputs": [],
   "source": [
    "def imprimir_pares(n):\n",
    "    for i in range(n):\n",
    "        for j in range(n):\n",
    "            print(i, j)"
   ]
  },
  {
   "cell_type": "markdown",
   "id": "79f48938",
   "metadata": {
    "slideshow": {
     "slide_type": "slide"
    }
   },
   "source": [
    "### Ejercicio 3\n",
    "\n",
    "¿Cuál es la complejidad de la siguiente función?"
   ]
  },
  {
   "cell_type": "code",
   "execution_count": null,
   "id": "e7904b3e",
   "metadata": {},
   "outputs": [],
   "source": [
    "def suma_pares(lista):\n",
    "    total = 0\n",
    "    for i in range(len(lista)):\n",
    "        for j in range(i+1, len(lista)):\n",
    "            total += lista[i] + lista[j]\n",
    "    return total"
   ]
  },
  {
   "cell_type": "markdown",
   "id": "14b2500c",
   "metadata": {
    "slideshow": {
     "slide_type": "slide"
    }
   },
   "source": [
    "### Ejercicio 4\n",
    "¿Cuál es la complejidad de la siguiente función?"
   ]
  },
  {
   "cell_type": "code",
   "execution_count": null,
   "id": "537a22c5",
   "metadata": {},
   "outputs": [],
   "source": [
    "def fibonacci(n):\n",
    "    if n <= 1:\n",
    "        return n\n",
    "    else:\n",
    "        return fibonacci(n-1) + fibonacci(n-2)"
   ]
  },
  {
   "cell_type": "markdown",
   "id": "3b669c49",
   "metadata": {
    "slideshow": {
     "slide_type": "slide"
    }
   },
   "source": [
    "### Ejercicio 5\n",
    "\n",
    "¿Cuál es la complejidad de la siguiente función?"
   ]
  },
  {
   "cell_type": "code",
   "execution_count": null,
   "id": "99ffb643",
   "metadata": {},
   "outputs": [],
   "source": [
    "def verificar_duplicados(lista):\n",
    "    for i in range(len(lista)):\n",
    "        for j in range(i+1, len(lista)):\n",
    "            if lista[i] == lista[j]:\n",
    "                return True\n",
    "    return False"
   ]
  }
 ],
 "metadata": {
  "celltoolbar": "Slideshow",
  "kernelspec": {
   "display_name": "Python 3 (ipykernel)",
   "language": "python",
   "name": "python3"
  },
  "language_info": {
   "codemirror_mode": {
    "name": "ipython",
    "version": 3
   },
   "file_extension": ".py",
   "mimetype": "text/x-python",
   "name": "python",
   "nbconvert_exporter": "python",
   "pygments_lexer": "ipython3",
   "version": "3.12.5"
  }
 },
 "nbformat": 4,
 "nbformat_minor": 5
}
